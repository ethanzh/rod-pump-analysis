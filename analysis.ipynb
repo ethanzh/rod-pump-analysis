{
 "cells": [
  {
   "cell_type": "code",
   "execution_count": 1,
   "metadata": {},
   "outputs": [
    {
     "ename": "ModuleNotFoundError",
     "evalue": "No module named 'pandas'",
     "output_type": "error",
     "traceback": [
      "\u001b[0;31m------------------------------------------------------------------------\u001b[0m",
      "\u001b[0;31mModuleNotFoundError\u001b[0m                    Traceback (most recent call last)",
      "\u001b[0;32m<ipython-input-1-2049efbaf4bf>\u001b[0m in \u001b[0;36m<module>\u001b[0;34m\u001b[0m\n\u001b[1;32m      1\u001b[0m \u001b[0;32mfrom\u001b[0m \u001b[0mos\u001b[0m \u001b[0;32mimport\u001b[0m \u001b[0mlistdir\u001b[0m\u001b[0;34m\u001b[0m\u001b[0;34m\u001b[0m\u001b[0m\n\u001b[1;32m      2\u001b[0m \u001b[0;32mfrom\u001b[0m \u001b[0mos\u001b[0m\u001b[0;34m.\u001b[0m\u001b[0mpath\u001b[0m \u001b[0;32mimport\u001b[0m \u001b[0misfile\u001b[0m\u001b[0;34m,\u001b[0m \u001b[0mjoin\u001b[0m\u001b[0;34m\u001b[0m\u001b[0;34m\u001b[0m\u001b[0m\n\u001b[0;32m----> 3\u001b[0;31m \u001b[0;32mimport\u001b[0m \u001b[0mpandas\u001b[0m \u001b[0;32mas\u001b[0m \u001b[0mpd\u001b[0m\u001b[0;34m\u001b[0m\u001b[0;34m\u001b[0m\u001b[0m\n\u001b[0m",
      "\u001b[0;31mModuleNotFoundError\u001b[0m: No module named 'pandas'"
     ]
    }
   ],
   "source": [
    "from os import listdir\n",
    "from os.path import isfile, join\n",
    "import pandas as pd"
   ]
  },
  {
   "cell_type": "code",
   "execution_count": 9,
   "metadata": {},
   "outputs": [],
   "source": [
    "# get list of all csv file\n",
    "DIR_NAME = \"rod_pump\"\n",
    "file_names = [f for f in listdir(DIR_NAME) if isfile(join(DIR_NAME, f))]"
   ]
  },
  {
   "cell_type": "code",
   "execution_count": 10,
   "metadata": {},
   "outputs": [],
   "source": [
    "# create a list of dataframes for each csv file in ./rod_pump\n",
    "# then concat to create master dataframe\n",
    "df_list = []\n",
    "files_names = file_names[0:1]\n",
    "for file in file_names:\n",
    "    df = pd.read_csv(f'rod_pump/{file}')\n",
    "    # make sure name of csv is included\n",
    "    df['Name'] = file.replace('.csv', '')\n",
    "    df_list.append(df)\n",
    "\n",
    "df = pd.concat(df_list)"
   ]
  },
  {
   "cell_type": "code",
   "execution_count": 11,
   "metadata": {},
   "outputs": [
    {
     "data": {
      "text/html": [
       "<div>\n",
       "<style scoped>\n",
       "    .dataframe tbody tr th:only-of-type {\n",
       "        vertical-align: middle;\n",
       "    }\n",
       "\n",
       "    .dataframe tbody tr th {\n",
       "        vertical-align: top;\n",
       "    }\n",
       "\n",
       "    .dataframe thead th {\n",
       "        text-align: right;\n",
       "    }\n",
       "</style>\n",
       "<table border=\"1\" class=\"dataframe\">\n",
       "  <thead>\n",
       "    <tr style=\"text-align: right;\">\n",
       "      <th></th>\n",
       "      <th>Casing Pressure (psi)</th>\n",
       "      <th>Tubing Pressure (psi)</th>\n",
       "      <th>Pump Fillage (%)</th>\n",
       "      <th>Percent Run (%)</th>\n",
       "      <th>Peak Load (lbs)</th>\n",
       "      <th>Minimum Load (lbs)</th>\n",
       "      <th>Fluid Load (lbs)</th>\n",
       "      <th>time (hours)</th>\n",
       "      <th>Name</th>\n",
       "    </tr>\n",
       "  </thead>\n",
       "  <tbody>\n",
       "    <tr>\n",
       "      <th>0</th>\n",
       "      <td>7380.755177</td>\n",
       "      <td>5960.510103</td>\n",
       "      <td>0.388265</td>\n",
       "      <td>100.0</td>\n",
       "      <td>12621.207431</td>\n",
       "      <td>5505.970221</td>\n",
       "      <td>6564.747336</td>\n",
       "      <td>0</td>\n",
       "      <td>Burger 9-180H</td>\n",
       "    </tr>\n",
       "    <tr>\n",
       "      <th>1</th>\n",
       "      <td>5564.319788</td>\n",
       "      <td>5297.299459</td>\n",
       "      <td>46.412075</td>\n",
       "      <td>100.0</td>\n",
       "      <td>13306.254086</td>\n",
       "      <td>6357.868538</td>\n",
       "      <td>6087.242078</td>\n",
       "      <td>1</td>\n",
       "      <td>Burger 9-180H</td>\n",
       "    </tr>\n",
       "    <tr>\n",
       "      <th>2</th>\n",
       "      <td>4945.969308</td>\n",
       "      <td>4822.684374</td>\n",
       "      <td>63.184421</td>\n",
       "      <td>100.0</td>\n",
       "      <td>14103.514407</td>\n",
       "      <td>6733.460638</td>\n",
       "      <td>5778.624402</td>\n",
       "      <td>2</td>\n",
       "      <td>Burger 9-180H</td>\n",
       "    </tr>\n",
       "    <tr>\n",
       "      <th>3</th>\n",
       "      <td>6310.765133</td>\n",
       "      <td>4854.125174</td>\n",
       "      <td>19.977812</td>\n",
       "      <td>100.0</td>\n",
       "      <td>3233.954584</td>\n",
       "      <td>8798.191166</td>\n",
       "      <td>5348.242919</td>\n",
       "      <td>3</td>\n",
       "      <td>Burger 9-180H</td>\n",
       "    </tr>\n",
       "    <tr>\n",
       "      <th>4</th>\n",
       "      <td>4767.994821</td>\n",
       "      <td>4304.190786</td>\n",
       "      <td>37.537420</td>\n",
       "      <td>100.0</td>\n",
       "      <td>1976.671075</td>\n",
       "      <td>10332.132859</td>\n",
       "      <td>4835.977321</td>\n",
       "      <td>4</td>\n",
       "      <td>Burger 9-180H</td>\n",
       "    </tr>\n",
       "  </tbody>\n",
       "</table>\n",
       "</div>"
      ],
      "text/plain": [
       "   Casing Pressure (psi)  Tubing Pressure (psi)  Pump Fillage (%)  \\\n",
       "0            7380.755177            5960.510103          0.388265   \n",
       "1            5564.319788            5297.299459         46.412075   \n",
       "2            4945.969308            4822.684374         63.184421   \n",
       "3            6310.765133            4854.125174         19.977812   \n",
       "4            4767.994821            4304.190786         37.537420   \n",
       "\n",
       "   Percent Run (%)  Peak Load (lbs)  Minimum Load (lbs)  Fluid Load (lbs)  \\\n",
       "0            100.0     12621.207431         5505.970221       6564.747336   \n",
       "1            100.0     13306.254086         6357.868538       6087.242078   \n",
       "2            100.0     14103.514407         6733.460638       5778.624402   \n",
       "3            100.0      3233.954584         8798.191166       5348.242919   \n",
       "4            100.0      1976.671075        10332.132859       4835.977321   \n",
       "\n",
       "   time (hours)           Name  \n",
       "0             0  Burger 9-180H  \n",
       "1             1  Burger 9-180H  \n",
       "2             2  Burger 9-180H  \n",
       "3             3  Burger 9-180H  \n",
       "4             4  Burger 9-180H  "
      ]
     },
     "execution_count": 11,
     "metadata": {},
     "output_type": "execute_result"
    }
   ],
   "source": [
    "df.head()"
   ]
  },
  {
   "cell_type": "code",
   "execution_count": 12,
   "metadata": {},
   "outputs": [
    {
     "data": {
      "text/plain": [
       "(10244, 9)"
      ]
     },
     "execution_count": 12,
     "metadata": {},
     "output_type": "execute_result"
    }
   ],
   "source": [
    "df.shape"
   ]
  }
 ],
 "metadata": {
  "kernelspec": {
   "display_name": "Python 3",
   "language": "python",
   "name": "python3"
  },
  "language_info": {
   "codemirror_mode": {
    "name": "ipython",
    "version": 3
   },
   "file_extension": ".py",
   "mimetype": "text/x-python",
   "name": "python",
   "nbconvert_exporter": "python",
   "pygments_lexer": "ipython3",
   "version": "3.7.4"
  }
 },
 "nbformat": 4,
 "nbformat_minor": 4
}
