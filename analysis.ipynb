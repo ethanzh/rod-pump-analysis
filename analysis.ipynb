{
 "cells": [
  {
   "cell_type": "code",
   "execution_count": 7,
   "metadata": {},
   "outputs": [],
   "source": [
    "from os import listdir\n",
    "from os.path import isfile, join\n",
    "import pandas as pd"
   ]
  },
  {
   "cell_type": "code",
   "execution_count": 8,
   "metadata": {},
   "outputs": [],
   "source": [
    "# get list of all csv file\n",
    "file_names = [f for f in listdir('rod_pump') if isfile(join('rod_pump', f))]"
   ]
  },
  {
   "cell_type": "code",
   "execution_count": 25,
   "metadata": {},
   "outputs": [],
   "source": [
    "# create a list of dataframes for each csv file in ./rod_pump\n",
    "# then concat to create master dataframe\n",
    "df_list = []\n",
    "for file in file_names:\n",
    "    df = pd.read_csv(f'rod_pump/{file}')\n",
    "    # make sure name of csv is included\n",
    "    df['Name'] = file.replace('.csv', '')\n",
    "    df_list.append(df)\n",
    "\n",
    "df = pd.concat(df_list)"
   ]
  },
  {
   "cell_type": "code",
   "execution_count": 27,
   "metadata": {},
   "outputs": [
    {
     "data": {
      "text/html": [
       "<div>\n",
       "<style scoped>\n",
       "    .dataframe tbody tr th:only-of-type {\n",
       "        vertical-align: middle;\n",
       "    }\n",
       "\n",
       "    .dataframe tbody tr th {\n",
       "        vertical-align: top;\n",
       "    }\n",
       "\n",
       "    .dataframe thead th {\n",
       "        text-align: right;\n",
       "    }\n",
       "</style>\n",
       "<table border=\"1\" class=\"dataframe\">\n",
       "  <thead>\n",
       "    <tr style=\"text-align: right;\">\n",
       "      <th></th>\n",
       "      <th>Casing Pressure (psi)</th>\n",
       "      <th>Tubing Pressure (psi)</th>\n",
       "      <th>Pump Fillage (%)</th>\n",
       "      <th>Percent Run (%)</th>\n",
       "      <th>Peak Load (lbs)</th>\n",
       "      <th>Minimum Load (lbs)</th>\n",
       "      <th>Fluid Load (lbs)</th>\n",
       "      <th>time (hours)</th>\n",
       "      <th>Name</th>\n",
       "    </tr>\n",
       "  </thead>\n",
       "  <tbody>\n",
       "    <tr>\n",
       "      <th>0</th>\n",
       "      <td>6101.648409</td>\n",
       "      <td>5880.250984</td>\n",
       "      <td>48.428786</td>\n",
       "      <td>100.0</td>\n",
       "      <td>15598.478436</td>\n",
       "      <td>3494.917180</td>\n",
       "      <td>6667.587671</td>\n",
       "      <td>0</td>\n",
       "      <td>State 4-99H</td>\n",
       "    </tr>\n",
       "    <tr>\n",
       "      <th>1</th>\n",
       "      <td>6204.578346</td>\n",
       "      <td>5245.854871</td>\n",
       "      <td>50.440176</td>\n",
       "      <td>100.0</td>\n",
       "      <td>19265.826768</td>\n",
       "      <td>2052.299206</td>\n",
       "      <td>6304.183974</td>\n",
       "      <td>1</td>\n",
       "      <td>State 4-99H</td>\n",
       "    </tr>\n",
       "    <tr>\n",
       "      <th>2</th>\n",
       "      <td>5909.220732</td>\n",
       "      <td>4695.031518</td>\n",
       "      <td>27.131900</td>\n",
       "      <td>100.0</td>\n",
       "      <td>18222.051782</td>\n",
       "      <td>4473.545685</td>\n",
       "      <td>5854.716874</td>\n",
       "      <td>2</td>\n",
       "      <td>State 4-99H</td>\n",
       "    </tr>\n",
       "    <tr>\n",
       "      <th>3</th>\n",
       "      <td>5215.274367</td>\n",
       "      <td>4429.410493</td>\n",
       "      <td>47.350632</td>\n",
       "      <td>100.0</td>\n",
       "      <td>15382.433071</td>\n",
       "      <td>6226.403528</td>\n",
       "      <td>5505.233735</td>\n",
       "      <td>3</td>\n",
       "      <td>State 4-99H</td>\n",
       "    </tr>\n",
       "    <tr>\n",
       "      <th>4</th>\n",
       "      <td>4679.115305</td>\n",
       "      <td>4319.703010</td>\n",
       "      <td>51.074669</td>\n",
       "      <td>100.0</td>\n",
       "      <td>10255.524648</td>\n",
       "      <td>5864.420042</td>\n",
       "      <td>5032.067001</td>\n",
       "      <td>4</td>\n",
       "      <td>State 4-99H</td>\n",
       "    </tr>\n",
       "  </tbody>\n",
       "</table>\n",
       "</div>"
      ],
      "text/plain": [
       "   Casing Pressure (psi)  Tubing Pressure (psi)  Pump Fillage (%)  \\\n",
       "0            6101.648409            5880.250984         48.428786   \n",
       "1            6204.578346            5245.854871         50.440176   \n",
       "2            5909.220732            4695.031518         27.131900   \n",
       "3            5215.274367            4429.410493         47.350632   \n",
       "4            4679.115305            4319.703010         51.074669   \n",
       "\n",
       "   Percent Run (%)  Peak Load (lbs)  Minimum Load (lbs)  Fluid Load (lbs)  \\\n",
       "0            100.0     15598.478436         3494.917180       6667.587671   \n",
       "1            100.0     19265.826768         2052.299206       6304.183974   \n",
       "2            100.0     18222.051782         4473.545685       5854.716874   \n",
       "3            100.0     15382.433071         6226.403528       5505.233735   \n",
       "4            100.0     10255.524648         5864.420042       5032.067001   \n",
       "\n",
       "   time (hours)         Name  \n",
       "0             0  State 4-99H  \n",
       "1             1  State 4-99H  \n",
       "2             2  State 4-99H  \n",
       "3             3  State 4-99H  \n",
       "4             4  State 4-99H  "
      ]
     },
     "execution_count": 27,
     "metadata": {},
     "output_type": "execute_result"
    }
   ],
   "source": [
    "df.head()"
   ]
  },
  {
   "cell_type": "code",
   "execution_count": null,
   "metadata": {},
   "outputs": [],
   "source": []
  }
 ],
 "metadata": {
  "kernelspec": {
   "display_name": "Python 3",
   "language": "python",
   "name": "python3"
  },
  "language_info": {
   "codemirror_mode": {
    "name": "ipython",
    "version": 3
   },
   "file_extension": ".py",
   "mimetype": "text/x-python",
   "name": "python",
   "nbconvert_exporter": "python",
   "pygments_lexer": "ipython3",
   "version": "3.7.3"
  }
 },
 "nbformat": 4,
 "nbformat_minor": 2
}
