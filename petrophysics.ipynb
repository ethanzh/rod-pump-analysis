{
 "cells": [
  {
   "cell_type": "code",
   "execution_count": 3,
   "metadata": {},
   "outputs": [],
   "source": [
    "import pandas as pd\n",
    "import numpy as np\n",
    "import sklearn\n",
    "from sklearn import svm\n",
    "from sklearn.model_selection import cross_val_score"
   ]
  },
  {
   "cell_type": "code",
   "execution_count": 4,
   "metadata": {},
   "outputs": [],
   "source": [
    "# import csv as dataframe\n",
    "df = pd.read_csv(\"petrophysics.csv\")"
   ]
  },
  {
   "cell_type": "code",
   "execution_count": 5,
   "metadata": {},
   "outputs": [
    {
     "data": {
      "text/html": [
       "<div>\n",
       "<style scoped>\n",
       "    .dataframe tbody tr th:only-of-type {\n",
       "        vertical-align: middle;\n",
       "    }\n",
       "\n",
       "    .dataframe tbody tr th {\n",
       "        vertical-align: top;\n",
       "    }\n",
       "\n",
       "    .dataframe thead th {\n",
       "        text-align: right;\n",
       "    }\n",
       "</style>\n",
       "<table border=\"1\" class=\"dataframe\">\n",
       "  <thead>\n",
       "    <tr style=\"text-align: right;\">\n",
       "      <th></th>\n",
       "      <th>UWI</th>\n",
       "      <th>depth</th>\n",
       "      <th>latitude</th>\n",
       "      <th>longitude</th>\n",
       "      <th>gamma</th>\n",
       "      <th>neutron porosity</th>\n",
       "      <th>pe</th>\n",
       "      <th>sp</th>\n",
       "      <th>member</th>\n",
       "      <th>formation</th>\n",
       "    </tr>\n",
       "  </thead>\n",
       "  <tbody>\n",
       "    <tr>\n",
       "      <th>0</th>\n",
       "      <td>4900722319</td>\n",
       "      <td>1836.5</td>\n",
       "      <td>41.61984</td>\n",
       "      <td>107.912908</td>\n",
       "      <td>80.2863</td>\n",
       "      <td>0.3379</td>\n",
       "      <td>3.2272</td>\n",
       "      <td>37.4190</td>\n",
       "      <td>Tfob</td>\n",
       "      <td>Tfu</td>\n",
       "    </tr>\n",
       "    <tr>\n",
       "      <th>1</th>\n",
       "      <td>4900722319</td>\n",
       "      <td>1837.0</td>\n",
       "      <td>41.61984</td>\n",
       "      <td>107.912908</td>\n",
       "      <td>78.5425</td>\n",
       "      <td>0.3472</td>\n",
       "      <td>3.2937</td>\n",
       "      <td>36.5917</td>\n",
       "      <td>Tfob</td>\n",
       "      <td>Tfu</td>\n",
       "    </tr>\n",
       "    <tr>\n",
       "      <th>2</th>\n",
       "      <td>4900722319</td>\n",
       "      <td>1837.5</td>\n",
       "      <td>41.61984</td>\n",
       "      <td>107.912908</td>\n",
       "      <td>78.4482</td>\n",
       "      <td>0.3655</td>\n",
       "      <td>3.3742</td>\n",
       "      <td>35.4404</td>\n",
       "      <td>Tfob</td>\n",
       "      <td>Tfu</td>\n",
       "    </tr>\n",
       "    <tr>\n",
       "      <th>3</th>\n",
       "      <td>4900722319</td>\n",
       "      <td>1838.0</td>\n",
       "      <td>41.61984</td>\n",
       "      <td>107.912908</td>\n",
       "      <td>76.6573</td>\n",
       "      <td>0.3906</td>\n",
       "      <td>3.5218</td>\n",
       "      <td>34.0309</td>\n",
       "      <td>Tfob</td>\n",
       "      <td>Tfu</td>\n",
       "    </tr>\n",
       "    <tr>\n",
       "      <th>4</th>\n",
       "      <td>4900722319</td>\n",
       "      <td>1838.5</td>\n",
       "      <td>41.61984</td>\n",
       "      <td>107.912908</td>\n",
       "      <td>74.6307</td>\n",
       "      <td>0.4042</td>\n",
       "      <td>3.7706</td>\n",
       "      <td>33.0401</td>\n",
       "      <td>Tfob</td>\n",
       "      <td>Tfu</td>\n",
       "    </tr>\n",
       "  </tbody>\n",
       "</table>\n",
       "</div>"
      ],
      "text/plain": [
       "          UWI   depth  latitude   longitude    gamma  neutron porosity  \\\n",
       "0  4900722319  1836.5  41.61984  107.912908  80.2863            0.3379   \n",
       "1  4900722319  1837.0  41.61984  107.912908  78.5425            0.3472   \n",
       "2  4900722319  1837.5  41.61984  107.912908  78.4482            0.3655   \n",
       "3  4900722319  1838.0  41.61984  107.912908  76.6573            0.3906   \n",
       "4  4900722319  1838.5  41.61984  107.912908  74.6307            0.4042   \n",
       "\n",
       "       pe       sp member formation  \n",
       "0  3.2272  37.4190   Tfob       Tfu  \n",
       "1  3.2937  36.5917   Tfob       Tfu  \n",
       "2  3.3742  35.4404   Tfob       Tfu  \n",
       "3  3.5218  34.0309   Tfob       Tfu  \n",
       "4  3.7706  33.0401   Tfob       Tfu  "
      ]
     },
     "execution_count": 5,
     "metadata": {},
     "output_type": "execute_result"
    }
   ],
   "source": [
    "# take a look at what the data looks like\n",
    "df.head()"
   ]
  },
  {
   "cell_type": "code",
   "execution_count": 6,
   "metadata": {},
   "outputs": [],
   "source": [
    "# randomize the data\n",
    "df = df.sample(frac=1)"
   ]
  },
  {
   "cell_type": "code",
   "execution_count": 7,
   "metadata": {},
   "outputs": [],
   "source": [
    "# split into train and test\n",
    "size = len(df)\n",
    "train = df[0:int(0.5 * size)]\n",
    "test = df[int(0.5 * size):]"
   ]
  },
  {
   "cell_type": "code",
   "execution_count": 8,
   "metadata": {},
   "outputs": [
    {
     "name": "stderr",
     "output_type": "stream",
     "text": [
      "/home/ethanzh/anaconda3/lib/python3.7/site-packages/pandas/core/frame.py:3940: SettingWithCopyWarning: \n",
      "A value is trying to be set on a copy of a slice from a DataFrame\n",
      "\n",
      "See the caveats in the documentation: http://pandas.pydata.org/pandas-docs/stable/indexing.html#indexing-view-versus-copy\n",
      "  errors=errors)\n"
     ]
    }
   ],
   "source": [
    "# seperate data into labels and data\n",
    "y_test = test[\"member\"]\n",
    "test.drop(\"member\", axis=1, inplace=True)\n",
    "test.drop(\"formation\", axis=1, inplace=True)\n",
    "\n",
    "X_test = test\n",
    "\n",
    "y_train = train[\"member\"]\n",
    "train.drop(\"member\", axis=1, inplace=True)\n",
    "train.drop(\"formation\", axis=1, inplace=True)\n",
    "X_train = train"
   ]
  },
  {
   "cell_type": "code",
   "execution_count": 9,
   "metadata": {},
   "outputs": [],
   "source": [
    "# convert to NumPy arrays\n",
    "X_train = np.array(X_train)\n",
    "y_train = np.array(y_train)"
   ]
  },
  {
   "cell_type": "code",
   "execution_count": 16,
   "metadata": {},
   "outputs": [],
   "source": [
    "# define classifier\n",
    "kernels = ['rbf'] #'poly', 'rbf', 'sigmoid']\n",
    "C_range = np.logspace(12, 15)"
   ]
  },
  {
   "cell_type": "code",
   "execution_count": 17,
   "metadata": {},
   "outputs": [
    {
     "name": "stdout",
     "output_type": "stream",
     "text": [
      "[LibSVM]1000000000000.0 - 0.873625274945011\n",
      "[LibSVM]1151395399326.448 - 0.9006198760247951\n",
      "[LibSVM][LibSVM][LibSVM][LibSVM][LibSVM][LibSVM][LibSVM][LibSVM][LibSVM][LibSVM][LibSVM][LibSVM][LibSVM][LibSVM][LibSVM][LibSVM][LibSVM][LibSVM][LibSVM][LibSVM][LibSVM][LibSVM][LibSVM][LibSVM][LibSVM]39069399370546.21 - 0.9070185962807439\n",
      "[LibSVM][LibSVM][LibSVM][LibSVM][LibSVM][LibSVM][LibSVM][LibSVM][LibSVM][LibSVM][LibSVM][LibSVM][LibSVM][LibSVM][LibSVM][LibSVM][LibSVM][LibSVM][LibSVM][LibSVM][LibSVM][LibSVM][LibSVM]"
     ]
    }
   ],
   "source": [
    "max_score= 0\n",
    "for C in C_range:\n",
    "    clf = svm.SVC(C=C, kernel='rbf', gamma='scale', decision_function_shape='ovr', verbose=2)\n",
    "\n",
    "    # train model\n",
    "    clf.fit(X_train, y_train)\n",
    "\n",
    "    # use our test data\n",
    "    score = clf.score(X_test, y_test)\n",
    "    #cross_val_score = cross_val_score(clf, X_test, y_test, cv=5, scoring='accuracy', n_jobs=-1)\n",
    "    if score > max_score:\n",
    "        max_score = score\n",
    "        print(f\"{C} - {score}\")"
   ]
  },
  {
   "cell_type": "code",
   "execution_count": null,
   "metadata": {},
   "outputs": [],
   "source": []
  }
 ],
 "metadata": {
  "kernelspec": {
   "display_name": "Python 3",
   "language": "python",
   "name": "python3"
  },
  "language_info": {
   "codemirror_mode": {
    "name": "ipython",
    "version": 3
   },
   "file_extension": ".py",
   "mimetype": "text/x-python",
   "name": "python",
   "nbconvert_exporter": "python",
   "pygments_lexer": "ipython3",
   "version": "3.7.4"
  }
 },
 "nbformat": 4,
 "nbformat_minor": 4
}
