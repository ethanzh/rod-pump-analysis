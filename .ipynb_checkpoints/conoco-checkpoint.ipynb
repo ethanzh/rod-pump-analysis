{
 "cells": [
  {
   "cell_type": "markdown",
   "metadata": {},
   "source": [
    "## Import dependencies"
   ]
  },
  {
   "cell_type": "code",
   "execution_count": 37,
   "metadata": {},
   "outputs": [],
   "source": [
    "import pandas as pd\n",
    "from sklearn.preprocessing import MinMaxScaler\n",
    "from sklearn.model_selection import train_test_split\n",
    "from sklearn.ensemble import RandomForestRegressor\n",
    "from sklearn.linear_model import Lasso, Ridge, SGDRegressor\n",
    "import numpy as np\n",
    "from sklearn import metrics\n",
    "import matplotlib.pyplot as plt"
   ]
  },
  {
   "cell_type": "markdown",
   "metadata": {},
   "source": [
    "## Clean the data"
   ]
  },
  {
   "cell_type": "code",
   "execution_count": 38,
   "metadata": {},
   "outputs": [],
   "source": [
    "# read in data, trim off the top blank rows\n",
    "df = pd.read_csv(\"conoco_data.csv\")\n",
    "# The first 15 rows are empty, get rid of them\n",
    "df.columns = df.iloc[15]\n",
    "df = df[16:]\n",
    "# replace NaN with 0 (I know we said median before but the dataframe isn't being nice now)\n",
    "df.fillna(0, inplace=True)\n",
    "df.reset_index(inplace=True)\n",
    "# create a copy to be used later for second model\n",
    "copy_df = df.copy(deep=True)"
   ]
  },
  {
   "cell_type": "code",
   "execution_count": 39,
   "metadata": {},
   "outputs": [],
   "source": [
    "# capture y, our response variable we're trying to predict\n",
    "y = df[\"DAYSTILFAIL\"].to_numpy()"
   ]
  },
  {
   "cell_type": "code",
   "execution_count": 40,
   "metadata": {},
   "outputs": [],
   "source": [
    "# list of columns that we do not need, either due to their formatting or what they represent.\n",
    "drop_cols = ['DAYSTILFAIL', 'WELLNAME', 'index', 'CURRENTWELLSTATUS1', 'DTTMSPUD', 'aRod_DTTMRUN', 'aRod_DTTMPULL', 'POPDATE', 'FAILUREDATE', \n",
    "                'JobATub_DTTMRUN', 'JobATub_DTTMPULL', 'HAS_FAILED']\n",
    "df.drop(columns=drop_cols, inplace=True)"
   ]
  },
  {
   "cell_type": "markdown",
   "metadata": {},
   "source": [
    "## Create X, scale X and y"
   ]
  },
  {
   "cell_type": "code",
   "execution_count": 41,
   "metadata": {},
   "outputs": [],
   "source": [
    "X_cols = df.columns\n",
    "X = df.to_numpy()\n",
    "\n",
    "# Scaler we used before, no longer used\n",
    "scaler = MinMaxScaler()\n",
    "\n",
    "# I honestly don't know why this needs to happen but it does\n",
    "y = y.reshape(-1, 1)\n",
    "X_minmax = scaler.fit_transform(X)\n",
    "y_minmax = scaler.fit_transform(y)\n",
    "\n",
    "# Create a train-test split of our data\n",
    "X_train, X_test, y_train, y_test = train_test_split(X_minmax, y_minmax, test_size=0.33, random_state=42)\n",
    "#X_train, X_test, y_train, y_test = train_test_split(X, y, test_size=0.33, random_state=42)"
   ]
  },
  {
   "cell_type": "markdown",
   "metadata": {},
   "source": [
    "## Model selection"
   ]
  },
  {
   "cell_type": "code",
   "execution_count": 42,
   "metadata": {},
   "outputs": [
    {
     "name": "stderr",
     "output_type": "stream",
     "text": [
      "/Users/ethanzh/Code/rod-pump-analysis/venv/lib/python3.7/site-packages/ipykernel_launcher.py:3: DataConversionWarning: A column-vector y was passed when a 1d array was expected. Please change the shape of y to (n_samples,), for example using ravel().\n",
      "  This is separate from the ipykernel package so we can avoid doing imports until\n"
     ]
    },
    {
     "data": {
      "text/plain": [
       "RandomForestRegressor(bootstrap=True, ccp_alpha=0.0, criterion='mse',\n",
       "                      max_depth=None, max_features='auto', max_leaf_nodes=None,\n",
       "                      max_samples=None, min_impurity_decrease=0.0,\n",
       "                      min_impurity_split=None, min_samples_leaf=1,\n",
       "                      min_samples_split=2, min_weight_fraction_leaf=0.0,\n",
       "                      n_estimators=100, n_jobs=None, oob_score=False,\n",
       "                      random_state=None, verbose=0, warm_start=False)"
      ]
     },
     "execution_count": 42,
     "metadata": {},
     "output_type": "execute_result"
    }
   ],
   "source": [
    "# Fit data to our Random Forest model\n",
    "rfr = RandomForestRegressor()\n",
    "rfr.fit(X_train, y_train)"
   ]
  },
  {
   "cell_type": "markdown",
   "metadata": {},
   "source": [
    "## Feature importances"
   ]
  },
  {
   "cell_type": "code",
   "execution_count": 43,
   "metadata": {},
   "outputs": [
    {
     "data": {
      "text/plain": [
       "{'TDCALC': 0.0698260137573254,\n",
       " 'ROD_DEPTHBTM': 0.05574184368866677,\n",
       " 'TUB_DEPTHBTM': 0.06689859059688988,\n",
       " 'TUBINGPULL': 0.03817352612853171,\n",
       " 'median_Consecutive_Pumpoff_Strokes_Allowed': 0.0072023926430786955,\n",
       " 'mean_Consecutive_Pumpoff_Strokes_Allowed': 0.05736133142795415,\n",
       " 'median_Current_PIP': 0.02341163630449927,\n",
       " 'mean_Current_PIP': 0.006429040378119413,\n",
       " 'median_Cycles': 0.1979196846861937,\n",
       " 'mean_Cycles': 0.030608315627061615,\n",
       " 'median_Fluid_Load': 0.020955732894250578,\n",
       " 'mean_Fluid_Load': 0.02093805904194332,\n",
       " 'median_Last_Stroke_Min_Load': 0.015124915053705935,\n",
       " 'mean_Last_Stroke_Min_Load': 0.016279727079178807,\n",
       " 'median_Last_Stroke_Peak_Load': 0.014442343002215965,\n",
       " 'mean_Last_Stroke_Peak_Load': 0.012077642179357024,\n",
       " 'median_STROKE_LENGTH': 0.015036917683751825,\n",
       " 'mean_STROKE_LENGTH': 0.02860462098710812,\n",
       " 'median_Pump_Size': 0.0039627220177036685,\n",
       " 'mean_Pump_Size': 0.011852314354991945,\n",
       " 'median_Reference_Pump_Fillage': 0.006684064827021687,\n",
       " 'mean_Reference_Pump_Fillage': 0.024654658430377566,\n",
       " 'median_Yesterday_Peak_Load': 0.016225857431205713,\n",
       " 'mean_Yesterday_Peak_Load': 0.016655392121688633,\n",
       " 'median_Yesterday_Min_Load': 0.021285267860389614,\n",
       " 'mean_Yesterday_Min_Load': 0.0487258743733836,\n",
       " 'median_Percent_Run': 0.02262553011507878,\n",
       " 'mean_Percent_Run': 0.07009363023251657,\n",
       " 'median_Total_Strokes': 0.0232513029190457,\n",
       " 'mean_Total_Strokes': 0.03695105215676439}"
      ]
     },
     "execution_count": 43,
     "metadata": {},
     "output_type": "execute_result"
    }
   ],
   "source": [
    "# use the random forest regressor to determine which features are the most important\n",
    "importances = rfr.feature_importances_\n",
    "# dictionary comprehension to easily visualize data\n",
    "feature_dict = {feature:value for (feature, value) in zip(X_cols, importances)}\n",
    "feature_dict"
   ]
  },
  {
   "cell_type": "code",
   "execution_count": 44,
   "metadata": {},
   "outputs": [
    {
     "data": {
      "text/plain": [
       "0.3625921690071857"
      ]
     },
     "execution_count": 44,
     "metadata": {},
     "output_type": "execute_result"
    }
   ],
   "source": [
    "# here is our r^2 value\n",
    "rfr.score(X_test, y_test)"
   ]
  },
  {
   "cell_type": "code",
   "execution_count": 45,
   "metadata": {},
   "outputs": [
    {
     "data": {
      "text/plain": [
       "[('median_Cycles', 0.1979196846861937),\n",
       " ('mean_Percent_Run', 0.07009363023251657),\n",
       " ('TDCALC', 0.0698260137573254),\n",
       " ('TUB_DEPTHBTM', 0.06689859059688988),\n",
       " ('mean_Consecutive_Pumpoff_Strokes_Allowed', 0.05736133142795415),\n",
       " ('ROD_DEPTHBTM', 0.05574184368866677),\n",
       " ('mean_Yesterday_Min_Load', 0.0487258743733836),\n",
       " ('TUBINGPULL', 0.03817352612853171),\n",
       " ('mean_Total_Strokes', 0.03695105215676439),\n",
       " ('mean_Cycles', 0.030608315627061615),\n",
       " ('mean_STROKE_LENGTH', 0.02860462098710812),\n",
       " ('mean_Reference_Pump_Fillage', 0.024654658430377566),\n",
       " ('median_Current_PIP', 0.02341163630449927),\n",
       " ('median_Total_Strokes', 0.0232513029190457),\n",
       " ('median_Percent_Run', 0.02262553011507878),\n",
       " ('median_Yesterday_Min_Load', 0.021285267860389614),\n",
       " ('median_Fluid_Load', 0.020955732894250578),\n",
       " ('mean_Fluid_Load', 0.02093805904194332),\n",
       " ('mean_Yesterday_Peak_Load', 0.016655392121688633),\n",
       " ('mean_Last_Stroke_Min_Load', 0.016279727079178807),\n",
       " ('median_Yesterday_Peak_Load', 0.016225857431205713),\n",
       " ('median_Last_Stroke_Min_Load', 0.015124915053705935),\n",
       " ('median_STROKE_LENGTH', 0.015036917683751825),\n",
       " ('median_Last_Stroke_Peak_Load', 0.014442343002215965),\n",
       " ('mean_Last_Stroke_Peak_Load', 0.012077642179357024),\n",
       " ('mean_Pump_Size', 0.011852314354991945),\n",
       " ('median_Consecutive_Pumpoff_Strokes_Allowed', 0.0072023926430786955),\n",
       " ('median_Reference_Pump_Fillage', 0.006684064827021687),\n",
       " ('mean_Current_PIP', 0.006429040378119413),\n",
       " ('median_Pump_Size', 0.0039627220177036685)]"
      ]
     },
     "execution_count": 45,
     "metadata": {},
     "output_type": "execute_result"
    }
   ],
   "source": [
    "# get a list of all importances, sorted\n",
    "sorted_importances = sorted(feature_dict.items(), key=lambda x: x[1], reverse=True)\n",
    "sorted_importances"
   ]
  },
  {
   "cell_type": "markdown",
   "metadata": {},
   "source": [
    "## Create new model only using our important features"
   ]
  },
  {
   "cell_type": "code",
   "execution_count": 46,
   "metadata": {},
   "outputs": [],
   "source": [
    "# Very similar to before, this time we're using only important columns\n",
    "COLS_NEEDED = 5\n",
    "cols_to_keep = [x[0] for x in sorted_importances[:COLS_NEEDED]]\n",
    "more_cols_to_drop = [x[0] for x in sorted_importances[COLS_NEEDED:]]\n",
    "\n",
    "# create new array of cols to drop\n",
    "drop_cols = drop_cols + more_cols_to_drop\n",
    "\n",
    "fresh_df = copy_df.copy(deep=True)\n",
    "fresh_df.drop(columns=drop_cols, inplace=True)\n",
    "X_cols = fresh_df.columns\n",
    "X = fresh_df.to_numpy()\n",
    "scaler = MinMaxScaler()\n",
    "\n",
    "y = y.reshape(-1, 1)\n",
    "X_minmax = scaler.fit_transform(X)\n",
    "y_minmax = scaler.fit_transform(y)\n",
    "X_train, X_test, y_train, y_test = train_test_split(X_minmax, y_minmax, test_size=0.33, random_state=42)\n",
    "#X_train, X_test, y_train, y_test = train_test_split(X, y, test_size=0.33, random_state=42)"
   ]
  },
  {
   "cell_type": "markdown",
   "metadata": {},
   "source": [
    "## Updated feature importances"
   ]
  },
  {
   "cell_type": "code",
   "execution_count": 47,
   "metadata": {},
   "outputs": [
    {
     "name": "stderr",
     "output_type": "stream",
     "text": [
      "/Users/ethanzh/Code/rod-pump-analysis/venv/lib/python3.7/site-packages/ipykernel_launcher.py:3: DataConversionWarning: A column-vector y was passed when a 1d array was expected. Please change the shape of y to (n_samples,), for example using ravel().\n",
      "  This is separate from the ipykernel package so we can avoid doing imports until\n"
     ]
    },
    {
     "data": {
      "text/plain": [
       "[('median_Cycles', 0.24989941279819514),\n",
       " ('mean_Percent_Run', 0.20879017379979872),\n",
       " ('mean_Consecutive_Pumpoff_Strokes_Allowed', 0.19353589697915272),\n",
       " ('TUB_DEPTHBTM', 0.1858446445983291),\n",
       " ('TDCALC', 0.16192987182452445)]"
      ]
     },
     "execution_count": 47,
     "metadata": {},
     "output_type": "execute_result"
    }
   ],
   "source": [
    "# perform the same function we did before, except just with these 5 features\n",
    "rfr = RandomForestRegressor()\n",
    "rfr.fit(X_train, y_train)\n",
    "\n",
    "# use the random forest regressor to determine which features are the most important\n",
    "importances = rfr.feature_importances_\n",
    "feature_dict = {feature:value for (feature, value) in zip(X_cols, importances)}\n",
    "\n",
    "# get a list of all importances, sorted\n",
    "sorted_importances = sorted(feature_dict.items(), key=lambda x: x[1], reverse=True)\n",
    "sorted_importances"
   ]
  },
  {
   "cell_type": "markdown",
   "metadata": {},
   "source": [
    "## Stochastic Gradient Descent model"
   ]
  },
  {
   "cell_type": "code",
   "execution_count": 48,
   "metadata": {},
   "outputs": [
    {
     "name": "stdout",
     "output_type": "stream",
     "text": [
      "Mean Absolute Error: 0.15980731078167476\n",
      "Mean Squared Error: 0.04855435731696723\n",
      "Root Mean Squared Error: 0.2203505328266016\n"
     ]
    },
    {
     "name": "stderr",
     "output_type": "stream",
     "text": [
      "/Users/ethanzh/Code/rod-pump-analysis/venv/lib/python3.7/site-packages/sklearn/utils/validation.py:744: DataConversionWarning: A column-vector y was passed when a 1d array was expected. Please change the shape of y to (n_samples, ), for example using ravel().\n",
      "  y = column_or_1d(y, warn=True)\n"
     ]
    }
   ],
   "source": [
    "# Train our SGD model, then score it\n",
    "sgd = SGDRegressor(max_iter=100000, tol=1)\n",
    "sgd.fit(X_train, y_train)\n",
    "y_pred = sgd.predict(X_test)\n",
    "print('Mean Absolute Error:', metrics.mean_absolute_error(y_test, y_pred))\n",
    "print('Mean Squared Error:', metrics.mean_squared_error(y_test, y_pred))\n",
    "print('Root Mean Squared Error:', np.sqrt(metrics.mean_squared_error(y_test, y_pred)))"
   ]
  },
  {
   "cell_type": "markdown",
   "metadata": {},
   "source": [
    "## Figure of predicted values"
   ]
  },
  {
   "cell_type": "code",
   "execution_count": 50,
   "metadata": {},
   "outputs": [
    {
     "data": {
      "text/plain": [
       "<matplotlib.collections.PathCollection at 0x11a8d8b10>"
      ]
     },
     "execution_count": 50,
     "metadata": {},
     "output_type": "execute_result"
    },
    {
     "data": {
      "image/png": "[encoded data removed]",
      "text/plain": [
       "<Figure size 720x360 with 1 Axes>"
      ]
     },
     "metadata": {
      "needs_background": "light"
     },
     "output_type": "display_data"
    }
   ],
   "source": [
    "plt.figure(figsize=(10, 5))\n",
    "plt.scatter(y_test, y_pred)"
   ]
  }
 ],
 "metadata": {
  "kernelspec": {
   "display_name": "Python 3",
   "language": "python",
   "name": "python3"
  },
  "language_info": {
   "codemirror_mode": {
    "name": "ipython",
    "version": 3
   },
   "file_extension": ".py",
   "mimetype": "text/x-python",
   "name": "python",
   "nbconvert_exporter": "python",
   "pygments_lexer": "ipython3",
   "version": "3.7.5"
  }
 },
 "nbformat": 4,
 "nbformat_minor": 4
}
