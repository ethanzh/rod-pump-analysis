{
 "cells": [
  {
   "cell_type": "code",
   "execution_count": 131,
   "metadata": {},
   "outputs": [],
   "source": [
    "import pandas as pd\n",
    "from sklearn.preprocessing import MinMaxScaler\n",
    "from sklearn.model_selection import train_test_split\n",
    "from sklearn.ensemble import RandomForestRegressor\n",
    "from sklearn.linear_model import Lasso, Ridge, SGDRegressor\n",
    "import numpy as np\n",
    "from sklearn import metrics\n",
    "import matplotlib.pyplot as plt"
   ]
  },
  {
   "cell_type": "code",
   "execution_count": 132,
   "metadata": {},
   "outputs": [],
   "source": [
    "# read in data, trim off the top blank rows\n",
    "df = pd.read_csv(\"conoco_data.csv\")\n",
    "df.columns = df.iloc[15]\n",
    "df = df[16:]\n",
    "df.fillna(0, inplace=True)\n",
    "df.reset_index(inplace=True)\n",
    "df.head()\n",
    "copy_df = df.copy(deep=True)\n",
    "y = df[\"DAYSTILFAIL\"].to_numpy()\n",
    "drop_cols = ['DAYSTILFAIL', 'WELLNAME', 'index', 'CURRENTWELLSTATUS1', 'DTTMSPUD', 'aRod_DTTMRUN', 'aRod_DTTMPULL', 'POPDATE', 'FAILUREDATE', \n",
    "                'JobATub_DTTMRUN', 'JobATub_DTTMPULL', 'HAS_FAILED']"
   ]
  },
  {
   "cell_type": "code",
   "execution_count": 133,
   "metadata": {},
   "outputs": [],
   "source": [
    "df.drop(columns=drop_cols, inplace=True)\n",
    "X_cols = df.columns\n",
    "X = df.to_numpy()\n",
    "scaler = MinMaxScaler()\n",
    "\n",
    "y = y.reshape(-1, 1)\n",
    "X_minmax = scaler.fit_transform(X)\n",
    "y_minmax = scaler.fit_transform(y)\n",
    "\n",
    "#X_train, X_test, y_train, y_test = train_test_split(X_minmax, y_minmax, test_size=0.33, random_state=42)\n",
    "X_train, X_test, y_train, y_test = train_test_split(X, y, test_size=0.33, random_state=42)"
   ]
  },
  {
   "cell_type": "code",
   "execution_count": 134,
   "metadata": {},
   "outputs": [
    {
     "name": "stderr",
     "output_type": "stream",
     "text": [
      "/Users/ethanzh/Code/rod-pump-analysis/venv/lib/python3.7/site-packages/ipykernel_launcher.py:2: DataConversionWarning: A column-vector y was passed when a 1d array was expected. Please change the shape of y to (n_samples,), for example using ravel().\n",
      "  \n"
     ]
    },
    {
     "data": {
      "text/plain": [
       "{'TDCALC': 0.06968551276109525,\n",
       " 'ROD_DEPTHBTM': 0.0568686895787288,\n",
       " 'TUB_DEPTHBTM': 0.06582101006515423,\n",
       " 'TUBINGPULL': 0.037325847184720255,\n",
       " 'median_Consecutive_Pumpoff_Strokes_Allowed': 0.00669745609648366,\n",
       " 'mean_Consecutive_Pumpoff_Strokes_Allowed': 0.05540702930308411,\n",
       " 'median_Current_PIP': 0.021920950008658614,\n",
       " 'mean_Current_PIP': 0.006238232096098511,\n",
       " 'median_Cycles': 0.19809192603958994,\n",
       " 'mean_Cycles': 0.03061721656335866,\n",
       " 'median_Fluid_Load': 0.019062531396477296,\n",
       " 'mean_Fluid_Load': 0.022187547605837975,\n",
       " 'median_Last_Stroke_Min_Load': 0.016367527304675725,\n",
       " 'mean_Last_Stroke_Min_Load': 0.017443956615546048,\n",
       " 'median_Last_Stroke_Peak_Load': 0.013377287962939868,\n",
       " 'mean_Last_Stroke_Peak_Load': 0.011596933013343908,\n",
       " 'median_STROKE_LENGTH': 0.016502061201714272,\n",
       " 'mean_STROKE_LENGTH': 0.028250662530605007,\n",
       " 'median_Pump_Size': 0.004521706484906694,\n",
       " 'mean_Pump_Size': 0.009329099821332804,\n",
       " 'median_Reference_Pump_Fillage': 0.006577499744219299,\n",
       " 'mean_Reference_Pump_Fillage': 0.025808801418708328,\n",
       " 'median_Yesterday_Peak_Load': 0.01708400775798914,\n",
       " 'mean_Yesterday_Peak_Load': 0.01627988997156797,\n",
       " 'median_Yesterday_Min_Load': 0.020737425532219512,\n",
       " 'mean_Yesterday_Min_Load': 0.04697545389836089,\n",
       " 'median_Percent_Run': 0.024926655814903005,\n",
       " 'mean_Percent_Run': 0.07313479119165099,\n",
       " 'median_Total_Strokes': 0.02618399318635034,\n",
       " 'mean_Total_Strokes': 0.03497829784967906}"
      ]
     },
     "execution_count": 134,
     "metadata": {},
     "output_type": "execute_result"
    }
   ],
   "source": [
    "rfr = RandomForestRegressor()\n",
    "rfr.fit(X_train, y_train)\n",
    "\n",
    "# use the random forest regressor to determine which features are the most important\n",
    "importances = rfr.feature_importances_\n",
    "feature_dict = {feature:value for (feature, value) in zip(X_cols, importances)}\n",
    "feature_dict"
   ]
  },
  {
   "cell_type": "code",
   "execution_count": 135,
   "metadata": {},
   "outputs": [
    {
     "data": {
      "text/plain": [
       "0.36037280500980207"
      ]
     },
     "execution_count": 135,
     "metadata": {},
     "output_type": "execute_result"
    }
   ],
   "source": [
    "# here is our r^2 value\n",
    "rfr.score(X_test, y_test)"
   ]
  },
  {
   "cell_type": "code",
   "execution_count": 136,
   "metadata": {},
   "outputs": [
    {
     "data": {
      "text/plain": [
       "[('median_Cycles', 0.19809192603958994),\n",
       " ('mean_Percent_Run', 0.07313479119165099),\n",
       " ('TDCALC', 0.06968551276109525),\n",
       " ('TUB_DEPTHBTM', 0.06582101006515423),\n",
       " ('ROD_DEPTHBTM', 0.0568686895787288),\n",
       " ('mean_Consecutive_Pumpoff_Strokes_Allowed', 0.05540702930308411),\n",
       " ('mean_Yesterday_Min_Load', 0.04697545389836089),\n",
       " ('TUBINGPULL', 0.037325847184720255),\n",
       " ('mean_Total_Strokes', 0.03497829784967906),\n",
       " ('mean_Cycles', 0.03061721656335866),\n",
       " ('mean_STROKE_LENGTH', 0.028250662530605007),\n",
       " ('median_Total_Strokes', 0.02618399318635034),\n",
       " ('mean_Reference_Pump_Fillage', 0.025808801418708328),\n",
       " ('median_Percent_Run', 0.024926655814903005),\n",
       " ('mean_Fluid_Load', 0.022187547605837975),\n",
       " ('median_Current_PIP', 0.021920950008658614),\n",
       " ('median_Yesterday_Min_Load', 0.020737425532219512),\n",
       " ('median_Fluid_Load', 0.019062531396477296),\n",
       " ('mean_Last_Stroke_Min_Load', 0.017443956615546048),\n",
       " ('median_Yesterday_Peak_Load', 0.01708400775798914),\n",
       " ('median_STROKE_LENGTH', 0.016502061201714272),\n",
       " ('median_Last_Stroke_Min_Load', 0.016367527304675725),\n",
       " ('mean_Yesterday_Peak_Load', 0.01627988997156797),\n",
       " ('median_Last_Stroke_Peak_Load', 0.013377287962939868),\n",
       " ('mean_Last_Stroke_Peak_Load', 0.011596933013343908),\n",
       " ('mean_Pump_Size', 0.009329099821332804),\n",
       " ('median_Consecutive_Pumpoff_Strokes_Allowed', 0.00669745609648366),\n",
       " ('median_Reference_Pump_Fillage', 0.006577499744219299),\n",
       " ('mean_Current_PIP', 0.006238232096098511),\n",
       " ('median_Pump_Size', 0.004521706484906694)]"
      ]
     },
     "execution_count": 136,
     "metadata": {},
     "output_type": "execute_result"
    }
   ],
   "source": [
    "# get a list of all importances, sorted\n",
    "sorted_importances = sorted(feature_dict.items(), key=lambda x: x[1], reverse=True)\n",
    "sorted_importances"
   ]
  },
  {
   "cell_type": "code",
   "execution_count": 137,
   "metadata": {},
   "outputs": [],
   "source": [
    "cols_to_keep = [x[0] for x in sorted_importances[:5]]\n",
    "more_cols_to_drop = [x[0] for x in sorted_importances[5:]]"
   ]
  },
  {
   "cell_type": "code",
   "execution_count": 138,
   "metadata": {},
   "outputs": [],
   "source": [
    "# create new array of cols to drop\n",
    "drop_cols = drop_cols + more_cols_to_drop"
   ]
  },
  {
   "cell_type": "code",
   "execution_count": 139,
   "metadata": {},
   "outputs": [],
   "source": [
    "fresh_df = copy_df.copy(deep=True)\n",
    "fresh_df.drop(columns=drop_cols, inplace=True)\n",
    "X_cols = fresh_df.columns\n",
    "X = fresh_df.to_numpy()\n",
    "scaler = MinMaxScaler()\n",
    "\n",
    "y = y.reshape(-1, 1)\n",
    "X_minmax = scaler.fit_transform(X)\n",
    "y_minmax = scaler.fit_transform(y)\n",
    "X_train, X_test, y_train, y_test = train_test_split(X_minmax, y_minmax, test_size=0.33, random_state=42)\n",
    "#X_train, X_test, y_train, y_test = train_test_split(X, y, test_size=0.33, random_state=42)"
   ]
  },
  {
   "cell_type": "code",
   "execution_count": 140,
   "metadata": {},
   "outputs": [
    {
     "name": "stderr",
     "output_type": "stream",
     "text": [
      "/Users/ethanzh/Code/rod-pump-analysis/venv/lib/python3.7/site-packages/ipykernel_launcher.py:3: DataConversionWarning: A column-vector y was passed when a 1d array was expected. Please change the shape of y to (n_samples,), for example using ravel().\n",
      "  This is separate from the ipykernel package so we can avoid doing imports until\n"
     ]
    },
    {
     "data": {
      "text/plain": [
       "{'TDCALC': 0.18437137413883664,\n",
       " 'ROD_DEPTHBTM': 0.15786664140900955,\n",
       " 'TUB_DEPTHBTM': 0.1606719744994709,\n",
       " 'median_Cycles': 0.2582283264417272,\n",
       " 'mean_Percent_Run': 0.2388616835109556}"
      ]
     },
     "execution_count": 140,
     "metadata": {},
     "output_type": "execute_result"
    }
   ],
   "source": [
    "# perform the same function we did before, except just with these 5 features\n",
    "rfr = RandomForestRegressor()\n",
    "rfr.fit(X_train, y_train)\n",
    "\n",
    "# use the random forest regressor to determine which features are the most important\n",
    "importances = rfr.feature_importances_\n",
    "feature_dict = {feature:value for (feature, value) in zip(X_cols, importances)}\n",
    "feature_dict"
   ]
  },
  {
   "cell_type": "code",
   "execution_count": 141,
   "metadata": {},
   "outputs": [
    {
     "data": {
      "text/plain": [
       "[('median_Cycles', 0.2582283264417272),\n",
       " ('mean_Percent_Run', 0.2388616835109556),\n",
       " ('TDCALC', 0.18437137413883664),\n",
       " ('TUB_DEPTHBTM', 0.1606719744994709),\n",
       " ('ROD_DEPTHBTM', 0.15786664140900955)]"
      ]
     },
     "execution_count": 141,
     "metadata": {},
     "output_type": "execute_result"
    }
   ],
   "source": [
    "# get a list of all importances, sorted\n",
    "sorted_importances = sorted(feature_dict.items(), key=lambda x: x[1], reverse=True)\n",
    "sorted_importances"
   ]
  },
  {
   "cell_type": "code",
   "execution_count": 149,
   "metadata": {},
   "outputs": [
    {
     "name": "stdout",
     "output_type": "stream",
     "text": [
      "Mean Absolute Error: 0.15917327912088106\n",
      "Mean Squared Error: 0.048729885664647594\n",
      "Root Mean Squared Error: 0.22074846695877096\n"
     ]
    },
    {
     "name": "stderr",
     "output_type": "stream",
     "text": [
      "/Users/ethanzh/Code/rod-pump-analysis/venv/lib/python3.7/site-packages/sklearn/utils/validation.py:744: DataConversionWarning: A column-vector y was passed when a 1d array was expected. Please change the shape of y to (n_samples, ), for example using ravel().\n",
      "  y = column_or_1d(y, warn=True)\n"
     ]
    }
   ],
   "source": [
    "sgd = SGDRegressor(max_iter=100000, tol=1)\n",
    "sgd.fit(X_train, y_train)\n",
    "y_pred = sgd.predict(X_test)\n",
    "print('Mean Absolute Error:', metrics.mean_absolute_error(y_test, y_pred))\n",
    "print('Mean Squared Error:', metrics.mean_squared_error(y_test, y_pred))\n",
    "print('Root Mean Squared Error:', np.sqrt(metrics.mean_squared_error(y_test, y_pred)))"
   ]
  },
  {
   "cell_type": "code",
   "execution_count": null,
   "metadata": {},
   "outputs": [],
   "source": []
  }
 ],
 "metadata": {
  "kernelspec": {
   "display_name": "Python 3",
   "language": "python",
   "name": "python3"
  },
  "language_info": {
   "codemirror_mode": {
    "name": "ipython",
    "version": 3
   },
   "file_extension": ".py",
   "mimetype": "text/x-python",
   "name": "python",
   "nbconvert_exporter": "python",
   "pygments_lexer": "ipython3",
   "version": "3.7.5"
  }
 },
 "nbformat": 4,
 "nbformat_minor": 4
}
