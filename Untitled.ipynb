{
 "cells": [
  {
   "cell_type": "code",
   "execution_count": 178,
   "metadata": {},
   "outputs": [],
   "source": [
    "import pandas as pd\n",
    "from sklearn.preprocessing import MinMaxScaler\n",
    "from sklearn.model_selection import train_test_split\n",
    "from sklearn.ensemble import RandomForestRegressor\n",
    "from sklearn.linear_model import Lasso, Ridge"
   ]
  },
  {
   "cell_type": "code",
   "execution_count": 186,
   "metadata": {},
   "outputs": [],
   "source": [
    "df = pd.read_csv(\"conoco_data.csv\")\n",
    "df.columns = df.iloc[15]\n",
    "df = df[16:]\n",
    "df.fillna(0, inplace=True)\n",
    "df.reset_index(inplace=True)\n",
    "df.head()\n",
    "y = df[\"DAYSTILFAIL\"].to_numpy()\n",
    "df.drop(columns=['DAYSTILFAIL', 'WELLNAME', 'index', 'CURRENTWELLSTATUS1', 'DTTMSPUD', 'aRod_DTTMRUN', 'aRod_DTTMPULL', 'POPDATE', 'FAILUREDATE', \n",
    "                'JobATub_DTTMRUN', 'JobATub_DTTMPULL'], inplace=True)\n",
    "X_cols = df.columns\n",
    "X = df.to_numpy()\n",
    "scaler = MinMaxScaler()\n",
    "\n",
    "y = y.reshape(-1, 1)\n",
    "X_minmax = scaler.fit_transform(X)\n",
    "y_minmax = scaler.fit_transform(y)"
   ]
  },
  {
   "cell_type": "code",
   "execution_count": 187,
   "metadata": {},
   "outputs": [],
   "source": [
    "X_train, X_test, y_train, y_test = train_test_split(X_minmax, y_minmax, test_size=0.33, random_state=42)"
   ]
  },
  {
   "cell_type": "code",
   "execution_count": 188,
   "metadata": {},
   "outputs": [
    {
     "name": "stderr",
     "output_type": "stream",
     "text": [
      "/home/ethanzh/Code/rod-pump-analysis/venv/lib/python3.7/site-packages/sklearn/ensemble/forest.py:245: FutureWarning: The default value of n_estimators will change from 10 in version 0.20 to 100 in 0.22.\n",
      "  \"10 in version 0.20 to 100 in 0.22.\", FutureWarning)\n",
      "/home/ethanzh/Code/rod-pump-analysis/venv/lib/python3.7/site-packages/ipykernel_launcher.py:2: DataConversionWarning: A column-vector y was passed when a 1d array was expected. Please change the shape of y to (n_samples,), for example using ravel().\n",
      "  \n"
     ]
    },
    {
     "data": {
      "text/plain": [
       "RandomForestRegressor(bootstrap=True, criterion='mse', max_depth=None,\n",
       "                      max_features='auto', max_leaf_nodes=None,\n",
       "                      min_impurity_decrease=0.0, min_impurity_split=None,\n",
       "                      min_samples_leaf=1, min_samples_split=2,\n",
       "                      min_weight_fraction_leaf=0.0, n_estimators=10,\n",
       "                      n_jobs=None, oob_score=False, random_state=None,\n",
       "                      verbose=0, warm_start=False)"
      ]
     },
     "execution_count": 188,
     "metadata": {},
     "output_type": "execute_result"
    }
   ],
   "source": [
    "rfr = RandomForestRegressor()\n",
    "rfr.fit(X_train, y_train)"
   ]
  },
  {
   "cell_type": "code",
   "execution_count": 189,
   "metadata": {},
   "outputs": [],
   "source": [
    "importances = rfr.feature_importances_\n",
    "\n",
    "feature_dict = {feature:value for (feature, value) in zip(X_cols, importances)}"
   ]
  },
  {
   "cell_type": "code",
   "execution_count": 190,
   "metadata": {},
   "outputs": [
    {
     "data": {
      "text/plain": [
       "{'TDCALC': 0.07368314981469402,\n",
       " 'ROD_DEPTHBTM': 0.06144606988645649,\n",
       " 'TUB_DEPTHBTM': 0.053769799765601735,\n",
       " 'TUBINGPULL': 0.015485520133289682,\n",
       " 'HAS_FAILED': 0.06669795211100003,\n",
       " 'median_Consecutive_Pumpoff_Strokes_Allowed': 0.015115441973641001,\n",
       " 'mean_Consecutive_Pumpoff_Strokes_Allowed': 0.06261488013680135,\n",
       " 'median_Current_PIP': 0.023604231325466598,\n",
       " 'mean_Current_PIP': 0.005737615810442821,\n",
       " 'median_Cycles': 0.19753424312043621,\n",
       " 'mean_Cycles': 0.029361150976932666,\n",
       " 'median_Fluid_Load': 0.013255693129251109,\n",
       " 'mean_Fluid_Load': 0.018482861326009063,\n",
       " 'median_Last_Stroke_Min_Load': 0.01717774211868059,\n",
       " 'mean_Last_Stroke_Min_Load': 0.018029419676395673,\n",
       " 'median_Last_Stroke_Peak_Load': 0.008376240519033134,\n",
       " 'mean_Last_Stroke_Peak_Load': 0.007498120091453596,\n",
       " 'median_STROKE_LENGTH': 0.010830357328906552,\n",
       " 'mean_STROKE_LENGTH': 0.030206958891679604,\n",
       " 'median_Pump_Size': 0.0017560514166684912,\n",
       " 'mean_Pump_Size': 0.0057732208245389,\n",
       " 'median_Reference_Pump_Fillage': 0.0028079258499009558,\n",
       " 'mean_Reference_Pump_Fillage': 0.02361941975116593,\n",
       " 'median_Yesterday_Peak_Load': 0.013209958992057527,\n",
       " 'mean_Yesterday_Peak_Load': 0.0113979730446025,\n",
       " 'median_Yesterday_Min_Load': 0.025614797335909895,\n",
       " 'mean_Yesterday_Min_Load': 0.04849552632211103,\n",
       " 'median_Percent_Run': 0.018819507265725573,\n",
       " 'mean_Percent_Run': 0.06369606105286822,\n",
       " 'median_Total_Strokes': 0.02128791182063573,\n",
       " 'mean_Total_Strokes': 0.03461419818764346}"
      ]
     },
     "execution_count": 190,
     "metadata": {},
     "output_type": "execute_result"
    }
   ],
   "source": [
    "feature_dict"
   ]
  },
  {
   "cell_type": "code",
   "execution_count": 191,
   "metadata": {},
   "outputs": [
    {
     "data": {
      "text/plain": [
       "0.3366558565971729"
      ]
     },
     "execution_count": 191,
     "metadata": {},
     "output_type": "execute_result"
    }
   ],
   "source": [
    "rfr.score(X_test, y_test)"
   ]
  },
  {
   "cell_type": "code",
   "execution_count": 192,
   "metadata": {},
   "outputs": [
    {
     "data": {
      "text/plain": [
       "-0.01218243398924801"
      ]
     },
     "execution_count": 192,
     "metadata": {},
     "output_type": "execute_result"
    }
   ],
   "source": [
    "las = Lasso()\n",
    "las.fit(X_train, y_train)\n",
    "las.score(X_test, y_test)"
   ]
  },
  {
   "cell_type": "code",
   "execution_count": 193,
   "metadata": {},
   "outputs": [
    {
     "data": {
      "text/plain": [
       "0.32310689212389276"
      ]
     },
     "execution_count": 193,
     "metadata": {},
     "output_type": "execute_result"
    }
   ],
   "source": [
    "rid = Ridge()\n",
    "rid.fit(X_train, y_train)\n",
    "rid.score(X_test, y_test)"
   ]
  },
  {
   "cell_type": "code",
   "execution_count": null,
   "metadata": {},
   "outputs": [],
   "source": []
  }
 ],
 "metadata": {
  "kernelspec": {
   "display_name": "Python 3",
   "language": "python",
   "name": "python3"
  },
  "language_info": {
   "codemirror_mode": {
    "name": "ipython",
    "version": 3
   },
   "file_extension": ".py",
   "mimetype": "text/x-python",
   "name": "python",
   "nbconvert_exporter": "python",
   "pygments_lexer": "ipython3",
   "version": "3.7.4"
  }
 },
 "nbformat": 4,
 "nbformat_minor": 4
}
