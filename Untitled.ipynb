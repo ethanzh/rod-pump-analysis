{
 "cells": [
  {
   "cell_type": "code",
   "execution_count": 103,
   "metadata": {},
   "outputs": [],
   "source": [
    "import pandas as pd\n",
    "from sklearn.preprocessing import MinMaxScaler\n",
    "from sklearn.model_selection import train_test_split\n",
    "from sklearn.ensemble import RandomForestRegressor"
   ]
  },
  {
   "cell_type": "code",
   "execution_count": 134,
   "metadata": {},
   "outputs": [],
   "source": [
    "df = pd.read_csv(\"conoco_data.csv\")\n",
    "df.columns = df.iloc[15]\n",
    "df = df[16:]\n",
    "df.reset_index(inplace=True)\n",
    "df.head()\n",
    "df.fillna(0, inplace=True)\n",
    "y = df[\"DAYSTILFAIL\"].to_numpy()\n",
    "df.drop(columns=['DAYSTILFAIL', 'WELLNAME', 'index', 'CURRENTWELLSTATUS1', 'DTTMSPUD', 'aRod_DTTMRUN', 'aRod_DTTMPULL', 'POPDATE', 'FAILUREDATE', \n",
    "                'JobATub_DTTMRUN', 'JobATub_DTTMPULL'], inplace=True)\n",
    "X_cols = df.columns\n",
    "X = df.to_numpy()\n",
    "scaler = MinMaxScaler()\n",
    "\n",
    "y = y.reshape(-1, 1)\n",
    "X_minmax = scaler.fit_transform(X)\n",
    "y_minmax = scaler.fit_transform(y)"
   ]
  },
  {
   "cell_type": "code",
   "execution_count": 130,
   "metadata": {},
   "outputs": [],
   "source": [
    "X_train, X_test, y_train, y_test = train_test_split(X_minmax, y_minmax, test_size=0.33, random_state=42)"
   ]
  },
  {
   "cell_type": "code",
   "execution_count": 131,
   "metadata": {},
   "outputs": [
    {
     "data": {
      "text/plain": [
       "array([[0.42799763, 0.46450704, 0.57300769, ..., 0.9781    , 0.        ,\n",
       "        0.        ],\n",
       "       [0.45532363, 0.51430986, 0.61230213, ..., 0.32329268, 0.        ,\n",
       "        0.        ],\n",
       "       [0.57628235, 0.70788732, 0.76826775, ..., 0.76860431, 0.56427232,\n",
       "        0.54115452],\n",
       "       ...,\n",
       "       [0.31684994, 0.22370704, 0.3821981 , ..., 0.32684492, 0.        ,\n",
       "        0.07235363],\n",
       "       [0.62882729, 0.76084507, 0.81489824, ..., 0.4900237 , 0.30516171,\n",
       "        0.33027079],\n",
       "       [0.6880885 , 0.89526761, 0.91864315, ..., 0.52965957, 0.32259199,\n",
       "        0.3979551 ]])"
      ]
     },
     "execution_count": 131,
     "metadata": {},
     "output_type": "execute_result"
    }
   ],
   "source": [
    "X_train"
   ]
  },
  {
   "cell_type": "code",
   "execution_count": 132,
   "metadata": {},
   "outputs": [
    {
     "name": "stderr",
     "output_type": "stream",
     "text": [
      "/home/ethanzh/Code/rod-pump-analysis/venv/lib/python3.7/site-packages/sklearn/ensemble/forest.py:245: FutureWarning: The default value of n_estimators will change from 10 in version 0.20 to 100 in 0.22.\n",
      "  \"10 in version 0.20 to 100 in 0.22.\", FutureWarning)\n",
      "/home/ethanzh/Code/rod-pump-analysis/venv/lib/python3.7/site-packages/ipykernel_launcher.py:2: DataConversionWarning: A column-vector y was passed when a 1d array was expected. Please change the shape of y to (n_samples,), for example using ravel().\n",
      "  \n"
     ]
    },
    {
     "data": {
      "text/plain": [
       "RandomForestRegressor(bootstrap=True, criterion='mse', max_depth=None,\n",
       "                      max_features='auto', max_leaf_nodes=None,\n",
       "                      min_impurity_decrease=0.0, min_impurity_split=None,\n",
       "                      min_samples_leaf=1, min_samples_split=2,\n",
       "                      min_weight_fraction_leaf=0.0, n_estimators=10,\n",
       "                      n_jobs=None, oob_score=False, random_state=None,\n",
       "                      verbose=0, warm_start=False)"
      ]
     },
     "execution_count": 132,
     "metadata": {},
     "output_type": "execute_result"
    }
   ],
   "source": [
    "rfr = RandomForestRegressor()\n",
    "rfr.fit(X_train, y_train)"
   ]
  },
  {
   "cell_type": "code",
   "execution_count": 145,
   "metadata": {},
   "outputs": [],
   "source": [
    "importances = rfr.feature_importances_\n",
    "\n",
    "feature_dict = {feature:value for (feature, value) in zip(X_cols, importances)}"
   ]
  },
  {
   "cell_type": "code",
   "execution_count": 146,
   "metadata": {},
   "outputs": [
    {
     "data": {
      "text/plain": [
       "{'TDCALC': 0.06730634314929801,\n",
       " 'ROD_DEPTHBTM': 0.06792702392352179,\n",
       " 'TUB_DEPTHBTM': 0.06045673246826582,\n",
       " 'TUBINGPULL': 0.02820816636027853,\n",
       " 'HAS_FAILED': 0.05021839355565796,\n",
       " 'median_Consecutive_Pumpoff_Strokes_Allowed': 0.012061211600451148,\n",
       " 'mean_Consecutive_Pumpoff_Strokes_Allowed': 0.056642103186696775,\n",
       " 'median_Current_PIP': 0.021792537226598033,\n",
       " 'mean_Current_PIP': 0.0062264234055877,\n",
       " 'median_Cycles': 0.19546146878936588,\n",
       " 'mean_Cycles': 0.02970461590616714,\n",
       " 'median_Fluid_Load': 0.0168146453519501,\n",
       " 'mean_Fluid_Load': 0.019348386966201937,\n",
       " 'median_Last_Stroke_Min_Load': 0.011977255365030231,\n",
       " 'mean_Last_Stroke_Min_Load': 0.01731133761677477,\n",
       " 'median_Last_Stroke_Peak_Load': 0.012488518116214731,\n",
       " 'mean_Last_Stroke_Peak_Load': 0.011609869179298396,\n",
       " 'median_STROKE_LENGTH': 0.017895935976425203,\n",
       " 'mean_STROKE_LENGTH': 0.02331914627030249,\n",
       " 'median_Pump_Size': 0.003427079143852575,\n",
       " 'mean_Pump_Size': 0.010911755922857409,\n",
       " 'median_Reference_Pump_Fillage': 0.004413559088590163,\n",
       " 'mean_Reference_Pump_Fillage': 0.027254676189597652,\n",
       " 'median_Yesterday_Peak_Load': 0.0156664349771308,\n",
       " 'mean_Yesterday_Peak_Load': 0.01877162987377201,\n",
       " 'median_Yesterday_Min_Load': 0.017118615856792477,\n",
       " 'mean_Yesterday_Min_Load': 0.037739665675586995,\n",
       " 'median_Percent_Run': 0.018368255255341605,\n",
       " 'mean_Percent_Run': 0.0521034874242905,\n",
       " 'median_Total_Strokes': 0.02695359385859899,\n",
       " 'mean_Total_Strokes': 0.04050113231950228}"
      ]
     },
     "execution_count": 146,
     "metadata": {},
     "output_type": "execute_result"
    }
   ],
   "source": [
    "feature_dict"
   ]
  },
  {
   "cell_type": "code",
   "execution_count": null,
   "metadata": {},
   "outputs": [],
   "source": []
  }
 ],
 "metadata": {
  "kernelspec": {
   "display_name": "Python 3",
   "language": "python",
   "name": "python3"
  },
  "language_info": {
   "codemirror_mode": {
    "name": "ipython",
    "version": 3
   },
   "file_extension": ".py",
   "mimetype": "text/x-python",
   "name": "python",
   "nbconvert_exporter": "python",
   "pygments_lexer": "ipython3",
   "version": "3.7.4"
  }
 },
 "nbformat": 4,
 "nbformat_minor": 4
}
