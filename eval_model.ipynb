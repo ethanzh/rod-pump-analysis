{
 "cells": [
  {
   "cell_type": "code",
   "execution_count": 14,
   "metadata": {},
   "outputs": [],
   "source": [
    "import pandas as pd\n",
    "from keras.models import load_model\n",
    "from os import listdir"
   ]
  },
  {
   "cell_type": "code",
   "execution_count": 22,
   "metadata": {},
   "outputs": [],
   "source": [
    "# get most recent model (highest epoch time)\n",
    "file_name = sorted(listdir(\"./models/\"), reverse=True)[0]\n",
    "model = load_model(f\"./models/{file_name}\")\n",
    "df = pd.read_pickle(\"df.pkl\")"
   ]
  },
  {
   "cell_type": "code",
   "execution_count": 23,
   "metadata": {},
   "outputs": [],
   "source": [
    "# create copy, remove misc. features from X\n",
    "X = df.copy(deep=True)\n",
    "del X[\"Percent Run (%)\"]\n",
    "del X[\"time (hours)\"]\n",
    "del X[\"Name\"]\n",
    "\n",
    "# remove all rows where the rod pump is 'dead'\n",
    "X = X[X[\"Casing Pressure (psi)\"] > 0]\n",
    "\n",
    "# move response series into y\n",
    "y = X[\"failing\"]\n",
    "del X[\"failing\"]\n",
    "\n",
    "X = X.iloc[:]\n",
    "y = y.iloc[:]"
   ]
  },
  {
   "cell_type": "code",
   "execution_count": 24,
   "metadata": {},
   "outputs": [
    {
     "name": "stdout",
     "output_type": "stream",
     "text": [
      "accuracy: 99.96%\n"
     ]
    }
   ],
   "source": [
    "score = model.evaluate(X, y, verbose=0)\n",
    "print(\"%s: %.2f%%\" % (model.metrics_names[1], score[1]*100))"
   ]
  }
 ],
 "metadata": {
  "kernelspec": {
   "display_name": "Python 3",
   "language": "python",
   "name": "python3"
  },
  "language_info": {
   "codemirror_mode": {
    "name": "ipython",
    "version": 3
   },
   "file_extension": ".py",
   "mimetype": "text/x-python",
   "name": "python",
   "nbconvert_exporter": "python",
   "pygments_lexer": "ipython3",
   "version": "3.7.4"
  }
 },
 "nbformat": 4,
 "nbformat_minor": 4
}
