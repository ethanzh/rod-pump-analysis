{
 "cells": [
  {
   "cell_type": "code",
   "execution_count": 1,
   "metadata": {},
   "outputs": [
    {
     "name": "stderr",
     "output_type": "stream",
     "text": [
      "Using TensorFlow backend.\n"
     ]
    }
   ],
   "source": [
    "import pandas as pd\n",
    "import matplotlib.pyplot as plt\n",
    "import random\n",
    "import numpy as np\n",
    "from keras.models import Sequential\n",
    "from keras.layers import Dense, Activation\n",
    "from keras import optimizers"
   ]
  },
  {
   "cell_type": "code",
   "execution_count": 2,
   "metadata": {},
   "outputs": [],
   "source": [
    "df = pd.read_csv(\"cretaceous_wells.csv\")"
   ]
  },
  {
   "cell_type": "code",
   "execution_count": 3,
   "metadata": {},
   "outputs": [
    {
     "data": {
      "text/html": [
       "<div>\n",
       "<style scoped>\n",
       "    .dataframe tbody tr th:only-of-type {\n",
       "        vertical-align: middle;\n",
       "    }\n",
       "\n",
       "    .dataframe tbody tr th {\n",
       "        vertical-align: top;\n",
       "    }\n",
       "\n",
       "    .dataframe thead th {\n",
       "        text-align: right;\n",
       "    }\n",
       "</style>\n",
       "<table border=\"1\" class=\"dataframe\">\n",
       "  <thead>\n",
       "    <tr style=\"text-align: right;\">\n",
       "      <th></th>\n",
       "      <th>Unnamed: 0</th>\n",
       "      <th>Company Number</th>\n",
       "      <th>Formation</th>\n",
       "      <th>Surface northing</th>\n",
       "      <th>Bottom hole northing</th>\n",
       "      <th>Surface easting</th>\n",
       "      <th>Bottom hole easting</th>\n",
       "      <th>Number of frac stages</th>\n",
       "      <th>Total slurry (bbl)</th>\n",
       "      <th>Total proppant (lb)</th>\n",
       "      <th>Lateral length (ft)</th>\n",
       "      <th>Lateral azimuth ()</th>\n",
       "      <th>IP oil (bbl)</th>\n",
       "      <th>IP GOR</th>\n",
       "      <th>Cumulative oil (bbl)</th>\n",
       "      <th>Cumulative days</th>\n",
       "      <th>IP oil API gravity ()</th>\n",
       "    </tr>\n",
       "  </thead>\n",
       "  <tbody>\n",
       "    <tr>\n",
       "      <th>0</th>\n",
       "      <td>0</td>\n",
       "      <td>26</td>\n",
       "      <td>Turner</td>\n",
       "      <td>1.101721</td>\n",
       "      <td>1.101830</td>\n",
       "      <td>1.051392</td>\n",
       "      <td>1.051227</td>\n",
       "      <td>NaN</td>\n",
       "      <td>NaN</td>\n",
       "      <td>NaN</td>\n",
       "      <td>3831</td>\n",
       "      <td>75</td>\n",
       "      <td>96.0</td>\n",
       "      <td>0.0</td>\n",
       "      <td>784</td>\n",
       "      <td>185</td>\n",
       "      <td>NaN</td>\n",
       "    </tr>\n",
       "    <tr>\n",
       "      <th>1</th>\n",
       "      <td>1</td>\n",
       "      <td>9</td>\n",
       "      <td>Turner</td>\n",
       "      <td>1.091999</td>\n",
       "      <td>1.092278</td>\n",
       "      <td>1.056680</td>\n",
       "      <td>1.056723</td>\n",
       "      <td>NaN</td>\n",
       "      <td>NaN</td>\n",
       "      <td>125124.0</td>\n",
       "      <td>3533</td>\n",
       "      <td>339</td>\n",
       "      <td>NaN</td>\n",
       "      <td>NaN</td>\n",
       "      <td>116902</td>\n",
       "      <td>1590</td>\n",
       "      <td>NaN</td>\n",
       "    </tr>\n",
       "    <tr>\n",
       "      <th>2</th>\n",
       "      <td>2</td>\n",
       "      <td>8</td>\n",
       "      <td>Turner</td>\n",
       "      <td>1.088332</td>\n",
       "      <td>1.088023</td>\n",
       "      <td>1.054312</td>\n",
       "      <td>1.054274</td>\n",
       "      <td>12.0</td>\n",
       "      <td>NaN</td>\n",
       "      <td>1992847.0</td>\n",
       "      <td>3754</td>\n",
       "      <td>163</td>\n",
       "      <td>472.0</td>\n",
       "      <td>7.5</td>\n",
       "      <td>157218</td>\n",
       "      <td>3024</td>\n",
       "      <td>52.2</td>\n",
       "    </tr>\n",
       "    <tr>\n",
       "      <th>3</th>\n",
       "      <td>3</td>\n",
       "      <td>8</td>\n",
       "      <td>Turner</td>\n",
       "      <td>1.088317</td>\n",
       "      <td>1.088018</td>\n",
       "      <td>1.054622</td>\n",
       "      <td>1.054559</td>\n",
       "      <td>13.0</td>\n",
       "      <td>36638.0</td>\n",
       "      <td>1992421.0</td>\n",
       "      <td>4000</td>\n",
       "      <td>152</td>\n",
       "      <td>183.0</td>\n",
       "      <td>11.0</td>\n",
       "      <td>109167</td>\n",
       "      <td>2832</td>\n",
       "      <td>NaN</td>\n",
       "    </tr>\n",
       "    <tr>\n",
       "      <th>4</th>\n",
       "      <td>4</td>\n",
       "      <td>8</td>\n",
       "      <td>Turner</td>\n",
       "      <td>1.088386</td>\n",
       "      <td>1.088670</td>\n",
       "      <td>1.054247</td>\n",
       "      <td>1.054335</td>\n",
       "      <td>13.0</td>\n",
       "      <td>NaN</td>\n",
       "      <td>2027081.0</td>\n",
       "      <td>4072</td>\n",
       "      <td>322</td>\n",
       "      <td>232.0</td>\n",
       "      <td>9.1</td>\n",
       "      <td>79701</td>\n",
       "      <td>2634</td>\n",
       "      <td>NaN</td>\n",
       "    </tr>\n",
       "  </tbody>\n",
       "</table>\n",
       "</div>"
      ],
      "text/plain": [
       "   Unnamed: 0  Company Number Formation  Surface northing  \\\n",
       "0           0              26    Turner          1.101721   \n",
       "1           1               9    Turner          1.091999   \n",
       "2           2               8    Turner          1.088332   \n",
       "3           3               8    Turner          1.088317   \n",
       "4           4               8    Turner          1.088386   \n",
       "\n",
       "   Bottom hole northing  Surface easting  Bottom hole easting  \\\n",
       "0              1.101830         1.051392             1.051227   \n",
       "1              1.092278         1.056680             1.056723   \n",
       "2              1.088023         1.054312             1.054274   \n",
       "3              1.088018         1.054622             1.054559   \n",
       "4              1.088670         1.054247             1.054335   \n",
       "\n",
       "   Number of frac stages  Total slurry (bbl)  Total proppant (lb)  \\\n",
       "0                    NaN                 NaN                  NaN   \n",
       "1                    NaN                 NaN             125124.0   \n",
       "2                   12.0                 NaN            1992847.0   \n",
       "3                   13.0             36638.0            1992421.0   \n",
       "4                   13.0                 NaN            2027081.0   \n",
       "\n",
       "   Lateral length (ft)  Lateral azimuth ()  IP oil (bbl)  IP GOR  \\\n",
       "0                 3831                  75          96.0     0.0   \n",
       "1                 3533                 339           NaN     NaN   \n",
       "2                 3754                 163         472.0     7.5   \n",
       "3                 4000                 152         183.0    11.0   \n",
       "4                 4072                 322         232.0     9.1   \n",
       "\n",
       "   Cumulative oil (bbl)  Cumulative days  IP oil API gravity ()  \n",
       "0                   784              185                    NaN  \n",
       "1                116902             1590                    NaN  \n",
       "2                157218             3024                   52.2  \n",
       "3                109167             2832                    NaN  \n",
       "4                 79701             2634                    NaN  "
      ]
     },
     "execution_count": 3,
     "metadata": {},
     "output_type": "execute_result"
    }
   ],
   "source": [
    "df.head()"
   ]
  },
  {
   "cell_type": "code",
   "execution_count": 4,
   "metadata": {},
   "outputs": [],
   "source": [
    "company_well = {}\n",
    "\n",
    "for index, row in df.iterrows():\n",
    "    company_number = int(row['Company Number'])\n",
    "    surface_coords = (row['Surface northing'], row['Surface easting'])\n",
    "    if company_number not in company_well.keys():\n",
    "        company_well[company_number] = []\n",
    "    company_well[company_number].append(surface_coords)"
   ]
  },
  {
   "cell_type": "code",
   "execution_count": 5,
   "metadata": {},
   "outputs": [
    {
     "data": {
      "image/png": "[encoded data removed]",
      "text/plain": [
       "<Figure size 1440x720 with 1 Axes>"
      ]
     },
     "metadata": {
      "needs_background": "light"
     },
     "output_type": "display_data"
    }
   ],
   "source": [
    "fig = plt.figure(figsize=(20,10))\n",
    "ax = fig.add_subplot(111)\n",
    "\n",
    "for company in company_well.keys():\n",
    "    x = [coord[0] for coord in company_well[company]]\n",
    "    y = [coord[1] for coord in company_well[company]]\n",
    "    color = \"#%06x\" % random.randint(0, 0xFFFFFF)\n",
    "    ax.scatter(x, y, s=10, c=color, marker=\"s\", label=str(company))\n",
    "    \n",
    "plt.legend(loc='upper left');\n",
    "plt.savefig('wells_by_company.png')\n",
    "plt.show()"
   ]
  },
  {
   "cell_type": "code",
   "execution_count": 6,
   "metadata": {},
   "outputs": [
    {
     "data": {
      "text/plain": [
       "(593, 17)"
      ]
     },
     "execution_count": 6,
     "metadata": {},
     "output_type": "execute_result"
    }
   ],
   "source": [
    "df.head()\n",
    "df.shape"
   ]
  },
  {
   "cell_type": "code",
   "execution_count": 7,
   "metadata": {},
   "outputs": [
    {
     "data": {
      "text/plain": [
       "array([[1.101721  , 1.051392  ],\n",
       "       [1.09199925, 1.0566802 ],\n",
       "       [1.08833225, 1.0543121 ],\n",
       "       ...,\n",
       "       [1.03005725, 1.0466226 ],\n",
       "       [1.03005725, 1.0466212 ],\n",
       "       [1.03005725, 1.0466248 ]])"
      ]
     },
     "execution_count": 7,
     "metadata": {},
     "output_type": "execute_result"
    }
   ],
   "source": [
    "surface_northing = df[\"Surface northing\"]\n",
    "surface_easting = df[\"Surface easting\"]\n",
    "cumulative_production = df[\"Cumulative oil (bbl)\"]\n",
    "cumulative_days = df[\"Cumulative days\"]\n",
    "y = cumulative_production / cumulative_days\n",
    "X = [surface_northing, surface_easting]\n",
    "X = []\n",
    "for i in range(len(surface_northing)):\n",
    "    X.append([surface_northing[i], surface_easting[i]])\n",
    "X = np.array(X)\n",
    "X"
   ]
  },
  {
   "cell_type": "code",
   "execution_count": 8,
   "metadata": {},
   "outputs": [
    {
     "name": "stdout",
     "output_type": "stream",
     "text": [
      "Epoch 1/5\n",
      "593/593 [==============================] - 0s 229us/step - loss: 70223.5519\n",
      "Epoch 2/5\n",
      "593/593 [==============================] - 0s 116us/step - loss: 70119.1687\n",
      "Epoch 3/5\n",
      "593/593 [==============================] - 0s 129us/step - loss: 70043.9234\n",
      "Epoch 4/5\n",
      "593/593 [==============================] - 0s 122us/step - loss: 70019.4050\n",
      "Epoch 5/5\n",
      "593/593 [==============================] - 0s 100us/step - loss: 69997.8410\n"
     ]
    },
    {
     "data": {
      "text/plain": [
       "array([[-1.1602508e+08]], dtype=float32)"
      ]
     },
     "execution_count": 8,
     "metadata": {},
     "output_type": "execute_result"
    }
   ],
   "source": [
    "from sklearn.preprocessing import StandardScaler\n",
    "\n",
    "model = Sequential()\n",
    "\n",
    "model.add(Dense(2, input_dim=2))\n",
    "model.add(Activation('relu'))\n",
    "model.add(Dense(1))\n",
    "\n",
    "model.compile(optimizer='adam', loss='mean_squared_error')\n",
    "model.fit(X, y, epochs=5, batch_size=10)\n",
    "\n",
    "test_data = np.array([[103005725, 1.0466226]])\n",
    "model.predict(test_data)"
   ]
  },
  {
   "cell_type": "code",
   "execution_count": 9,
   "metadata": {},
   "outputs": [
    {
     "data": {
      "application/vnd.jupyter.widget-view+json": {
       "model_id": "767d1bc71dc840c99e6d397b66aa55aa",
       "version_major": 2,
       "version_minor": 0
      },
      "text/plain": [
       "FloatSlider(value=7.5, continuous_update=False, description='Test:', max=10.0, orientation='vertical', readout…"
      ]
     },
     "metadata": {},
     "output_type": "display_data"
    }
   ],
   "source": [
    "import ipywidgets as widgets\n",
    "\n",
    "widgets.FloatSlider(\n",
    "    value=7.5,\n",
    "    min=0,\n",
    "    max=10.0,\n",
    "    step=0.1,\n",
    "    description='Test:',\n",
    "    disabled=False,\n",
    "    continuous_update=False,\n",
    "    orientation='horizontal',\n",
    "    readout=True,\n",
    "    readout_format='.1f',\n",
    ")\n",
    "\n",
    "widgets.FloatSlider(\n",
    "    value=7.5,\n",
    "    min=0,\n",
    "    max=10.0,\n",
    "    step=0.1,\n",
    "    description='Test:',\n",
    "    disabled=False,\n",
    "    continuous_update=False,\n",
    "    orientation='vertical',\n",
    "    readout=True,\n",
    "    readout_format='.1f',\n",
    ")"
   ]
  },
  {
   "cell_type": "code",
   "execution_count": null,
   "metadata": {},
   "outputs": [],
   "source": []
  },
  {
   "cell_type": "code",
   "execution_count": null,
   "metadata": {},
   "outputs": [],
   "source": []
  }
 ],
 "metadata": {
  "kernelspec": {
   "display_name": "Python 3",
   "language": "python",
   "name": "python3"
  },
  "language_info": {
   "codemirror_mode": {
    "name": "ipython",
    "version": 3
   },
   "file_extension": ".py",
   "mimetype": "text/x-python",
   "name": "python",
   "nbconvert_exporter": "python",
   "pygments_lexer": "ipython3",
   "version": "3.7.4"
  }
 },
 "nbformat": 4,
 "nbformat_minor": 4
}
